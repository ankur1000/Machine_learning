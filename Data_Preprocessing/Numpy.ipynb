{
 "cells": [
  {
   "cell_type": "code",
   "execution_count": 3,
   "metadata": {},
   "outputs": [],
   "source": [
    "import numpy as np"
   ]
  },
  {
   "cell_type": "code",
   "execution_count": 4,
   "metadata": {},
   "outputs": [],
   "source": [
    "#Creating numpy arrays from python lists\n",
    "\n",
    "my_list = [1,2,3,4,5]"
   ]
  },
  {
   "cell_type": "code",
   "execution_count": 10,
   "metadata": {},
   "outputs": [
    {
     "data": {
      "text/plain": [
       "array([1, 2, 3, 4, 5])"
      ]
     },
     "execution_count": 10,
     "metadata": {},
     "output_type": "execute_result"
    }
   ],
   "source": [
    "np_list = np.array(my_list)\n",
    "np_list"
   ]
  },
  {
   "cell_type": "code",
   "execution_count": 11,
   "metadata": {},
   "outputs": [],
   "source": [
    "second_list = [[1,2,3],[4,5,6],[7,8,9]]"
   ]
  },
  {
   "cell_type": "code",
   "execution_count": 13,
   "metadata": {},
   "outputs": [
    {
     "data": {
      "text/plain": [
       "array([[1, 2, 3],\n",
       "       [4, 5, 6],\n",
       "       [7, 8, 9]])"
      ]
     },
     "execution_count": 13,
     "metadata": {},
     "output_type": "execute_result"
    }
   ],
   "source": [
    "twod_arr = np.array(second_list)\n",
    "twod_arr"
   ]
  },
  {
   "cell_type": "code",
   "execution_count": 17,
   "metadata": {},
   "outputs": [
    {
     "data": {
      "text/plain": [
       "array([0, 1, 2, 3, 4, 5, 6, 7, 8, 9])"
      ]
     },
     "execution_count": 17,
     "metadata": {},
     "output_type": "execute_result"
    }
   ],
   "source": [
    "#Creating NumPy array using arange() built-in function.\n",
    "#This generates 10 digits of values from index 0 to 10 with step size 1 excluding 10\n",
    "\n",
    "my_list = np.arange(10)\n",
    "my_list"
   ]
  },
  {
   "cell_type": "code",
   "execution_count": 19,
   "metadata": {},
   "outputs": [
    {
     "data": {
      "text/plain": [
       "array([ 0,  2,  4,  6,  8, 10])"
      ]
     },
     "execution_count": 19,
     "metadata": {},
     "output_type": "execute_result"
    }
   ],
   "source": [
    "my_list = np.arange(0,11,2)\n",
    "my_list"
   ]
  },
  {
   "cell_type": "code",
   "execution_count": 22,
   "metadata": {},
   "outputs": [
    {
     "data": {
      "text/plain": [
       "array([0., 0., 0., 0., 0., 0., 0.])"
      ]
     },
     "execution_count": 22,
     "metadata": {},
     "output_type": "execute_result"
    }
   ],
   "source": [
    "#generate a one-dimensional array of seven zeros.\n",
    "my_zeros = np.zeros(7)\n",
    "my_zeros"
   ]
  },
  {
   "cell_type": "code",
   "execution_count": 24,
   "metadata": {},
   "outputs": [
    {
     "data": {
      "text/plain": [
       "array([1., 1., 1., 1., 1.])"
      ]
     },
     "execution_count": 24,
     "metadata": {},
     "output_type": "execute_result"
    }
   ],
   "source": [
    "#generate a one-dimensional array of five ones.\n",
    "my_ones = np.ones(5)\n",
    "my_ones"
   ]
  },
  {
   "cell_type": "code",
   "execution_count": 26,
   "metadata": {},
   "outputs": [
    {
     "data": {
      "text/plain": [
       "array([1.        , 1.14285714, 1.28571429, 1.42857143, 1.57142857,\n",
       "       1.71428571, 1.85714286, 2.        , 2.14285714, 2.28571429,\n",
       "       2.42857143, 2.57142857, 2.71428571, 2.85714286, 3.        ])"
      ]
     },
     "execution_count": 26,
     "metadata": {},
     "output_type": "execute_result"
    }
   ],
   "source": [
    "#Creating NumPy array using linspace() built-in function\n",
    "lin_arr = np.linspace(1, 3, 15)\n",
    "lin_arr"
   ]
  },
  {
   "cell_type": "code",
   "execution_count": 28,
   "metadata": {},
   "outputs": [
    {
     "data": {
      "text/plain": [
       "array([[1., 0., 0., 0., 0., 0.],\n",
       "       [0., 1., 0., 0., 0., 0.],\n",
       "       [0., 0., 1., 0., 0., 0.],\n",
       "       [0., 0., 0., 1., 0., 0.],\n",
       "       [0., 0., 0., 0., 1., 0.],\n",
       "       [0., 0., 0., 0., 0., 1.]])"
      ]
     },
     "execution_count": 28,
     "metadata": {},
     "output_type": "execute_result"
    }
   ],
   "source": [
    "#Creating an identity matrix in NumPy\n",
    "my_matrx = np.eye(6)\n",
    "my_matrx"
   ]
  },
  {
   "cell_type": "code",
   "execution_count": 32,
   "metadata": {},
   "outputs": [
    {
     "data": {
      "text/plain": [
       "array([0.64483272, 0.52636371, 0.26692816, 0.2054268 ])"
      ]
     },
     "execution_count": 32,
     "metadata": {},
     "output_type": "execute_result"
    }
   ],
   "source": [
    "#Generating an array of random numbers in NumPy\n",
    "my_rand = np.random.rand(4)\n",
    "my_rand"
   ]
  },
  {
   "cell_type": "code",
   "execution_count": 31,
   "metadata": {},
   "outputs": [
    {
     "data": {
      "text/plain": [
       "array([[0.96939193, 0.79037806, 0.39300324, 0.03536831],\n",
       "       [0.87319904, 0.33146849, 0.97455476, 0.81504281],\n",
       "       [0.50688245, 0.67879503, 0.27218944, 0.67715437],\n",
       "       [0.4372704 , 0.8526408 , 0.18840574, 0.99822201],\n",
       "       [0.70986619, 0.86242089, 0.79293942, 0.24469819]])"
      ]
     },
     "execution_count": 31,
     "metadata": {},
     "output_type": "execute_result"
    }
   ],
   "source": [
    "my_rand = np.random.rand(5, 4)\n",
    "my_rand"
   ]
  },
  {
   "cell_type": "code",
   "execution_count": 33,
   "metadata": {},
   "outputs": [
    {
     "data": {
      "text/plain": [
       "array([[0.44515299, 0.04141942, 0.00361319, 0.44884546, 0.03937217],\n",
       "       [0.73120433, 0.91992013, 0.72591352, 0.44342984, 0.54895841],\n",
       "       [0.30201267, 0.40079158, 0.3102372 , 0.83013244, 0.55372274],\n",
       "       [0.82487448, 0.38822417, 0.18889642, 0.75983281, 0.3267844 ],\n",
       "       [0.33490165, 0.29242672, 0.42840293, 0.09689114, 0.42438035]])"
      ]
     },
     "execution_count": 33,
     "metadata": {},
     "output_type": "execute_result"
    }
   ],
   "source": [
    "#Converting one-dimensional array to two-dimensional\n",
    "arr = np.random.rand(25)\n",
    "arr.reshape(5,5)\n"
   ]
  },
  {
   "cell_type": "code",
   "execution_count": 34,
   "metadata": {},
   "outputs": [
    {
     "name": "stdout",
     "output_type": "stream",
     "text": [
      "15\n",
      "1\n"
     ]
    }
   ],
   "source": [
    "#Locating the maximum and minimum values of a NumPy Array\n",
    "arr_2 = np.random.randint(0, 20, 10) \n",
    "print(arr_2.max()) #This gives the highest value in the array \n",
    "print(arr_2.min()) #This gives the lowest value in the array"
   ]
  },
  {
   "cell_type": "code",
   "execution_count": 42,
   "metadata": {},
   "outputs": [
    {
     "name": "stdout",
     "output_type": "stream",
     "text": [
      "8\n",
      "[2 3 4 5]\n",
      "[0 1 2 3 4 5]\n",
      "[ 5  6  7  8  9 10]\n",
      "[ 0  1  2  3  4  5  6  7  8  9 10]\n"
     ]
    }
   ],
   "source": [
    "my_array = np.arange(0,11)\n",
    "print(my_array[8])  #This gives us the value of element at index 8\n",
    "print(my_array[2:6]) #This returns everything from index 2 to 6(exclusive)\n",
    "print(my_array[:6]) #This returns everything from index 0 to 6(exclusive)\n",
    "print(my_array[5:]) #This returns everything from index 5 to the end of the array.\n",
    "print(my_array[:])"
   ]
  },
  {
   "cell_type": "code",
   "execution_count": 44,
   "metadata": {},
   "outputs": [
    {
     "name": "stdout",
     "output_type": "stream",
     "text": [
      "60\n",
      "20\n",
      "[[10 20]]\n"
     ]
    }
   ],
   "source": [
    "two_d_arr = np.array([[10,20,30], [40,50,60], [70,80,90]])\n",
    "print(two_d_arr[1][2]) #The value 60 appears is in row index 1, and column index 2\n",
    "print(two_d_arr[0,1] )\n",
    "print(two_d_arr[:1, :2])           # This returns [[10, 20]]\n"
   ]
  },
  {
   "cell_type": "code",
   "execution_count": 51,
   "metadata": {},
   "outputs": [
    {
     "name": "stdout",
     "output_type": "stream",
     "text": [
      "[ 5  6  7  8  9 10 11 12 13 14]\n",
      "[False False False False False False  True  True  True  True]\n",
      "[11 12 13 14]\n"
     ]
    }
   ],
   "source": [
    "new_arr = np.arange(5,15)\n",
    "print(new_arr)\n",
    "print(new_arr > 10)\n",
    "print(new_arr[new_arr>10])  #This returns elements greater than 10 [11, 12, 13, 14]"
   ]
  },
  {
   "cell_type": "code",
   "execution_count": 53,
   "metadata": {},
   "outputs": [
    {
     "data": {
      "text/plain": [
       "array([50, 50, 50,  3,  4,  5,  6,  7,  8,  9, 10])"
      ]
     },
     "execution_count": 53,
     "metadata": {},
     "output_type": "execute_result"
    }
   ],
   "source": [
    "#Broadcasting\n",
    "my_array[0:3] = 50\n",
    "my_array"
   ]
  },
  {
   "cell_type": "code",
   "execution_count": 56,
   "metadata": {},
   "outputs": [
    {
     "name": "stdout",
     "output_type": "stream",
     "text": [
      "[ 1  2  3  4  5  6  7  8  9 10]\n",
      "[  1   4   9  16  25  36  49  64  81 100]\n",
      "[0 0 0 0 0 0 0 0 0 0]\n",
      "[ 2  4  6  8 10 12 14 16 18 20]\n",
      "[1. 1. 1. 1. 1. 1. 1. 1. 1. 1.]\n"
     ]
    }
   ],
   "source": [
    "#arithmetic operations on NumPy Arrays\n",
    "arr = np.arange(1,11)\n",
    "print(arr)\n",
    "print(arr * arr)              #Multiplies each element by itself \n",
    "print(arr - arr)              #Subtracts each element from itself\n",
    "print(arr + arr)              #Adds each element to itself\n",
    "print(arr / arr)              #Divides each element by itself"
   ]
  },
  {
   "cell_type": "code",
   "execution_count": 58,
   "metadata": {},
   "outputs": [
    {
     "data": {
      "text/plain": [
       "array([51, 52, 53, 54, 55, 56, 57, 58, 59, 60])"
      ]
     },
     "execution_count": 58,
     "metadata": {},
     "output_type": "execute_result"
    }
   ],
   "source": [
    "#scalarr operations\n",
    "arr + 50              #This adds 50 to every element in that array"
   ]
  },
  {
   "cell_type": "code",
   "execution_count": 59,
   "metadata": {},
   "outputs": [
    {
     "name": "stdout",
     "output_type": "stream",
     "text": [
      "[1.         1.41421356 1.73205081 2.         2.23606798 2.44948974\n",
      " 2.64575131 2.82842712 3.         3.16227766]\n",
      "[2.71828183e+00 7.38905610e+00 2.00855369e+01 5.45981500e+01\n",
      " 1.48413159e+02 4.03428793e+02 1.09663316e+03 2.98095799e+03\n",
      " 8.10308393e+03 2.20264658e+04]\n",
      "[ 0.84147098  0.90929743  0.14112001 -0.7568025  -0.95892427 -0.2794155\n",
      "  0.6569866   0.98935825  0.41211849 -0.54402111]\n",
      "[ 0.54030231 -0.41614684 -0.9899925  -0.65364362  0.28366219  0.96017029\n",
      "  0.75390225 -0.14550003 -0.91113026 -0.83907153]\n",
      "[0.         0.69314718 1.09861229 1.38629436 1.60943791 1.79175947\n",
      " 1.94591015 2.07944154 2.19722458 2.30258509]\n",
      "55\n",
      "2.8722813232690143\n"
     ]
    }
   ],
   "source": [
    "print(np.sqrt(arr))     #Returns the square root of each element \n",
    "print(np.exp(arr))     #Returns the exponentials of each element\n",
    "print(np.sin(arr))     #Returns the sin of each element\n",
    "print(np.cos(arr))     #Returns the cosine of each element\n",
    "print(np.log(arr))     #Returns the logarithm of each element\n",
    "print(np.sum(arr))     #Returns the sum total of elements in the array\n",
    "print(np.std(arr))     #Returns the standard deviation of in the array"
   ]
  },
  {
   "cell_type": "code",
   "execution_count": 61,
   "metadata": {},
   "outputs": [
    {
     "name": "stdout",
     "output_type": "stream",
     "text": [
      "325\n",
      "[55 60 65 70 75]\n",
      "[ 15  40  65  90 115]\n"
     ]
    }
   ],
   "source": [
    "mat = np.arange(1,26).reshape(5,5)\n",
    "print(mat.sum())         #Returns the sum of all the values in mat\n",
    "print(mat.sum(axis=0))   #Returns the sum of all the columns in mat\n",
    "print(mat.sum(axis=1))   #Returns the sum of all the rows in mat"
   ]
  }
 ],
 "metadata": {
  "kernelspec": {
   "display_name": "Python 3",
   "language": "python",
   "name": "python3"
  },
  "language_info": {
   "codemirror_mode": {
    "name": "ipython",
    "version": 3
   },
   "file_extension": ".py",
   "mimetype": "text/x-python",
   "name": "python",
   "nbconvert_exporter": "python",
   "pygments_lexer": "ipython3",
   "version": "3.7.3"
  }
 },
 "nbformat": 4,
 "nbformat_minor": 2
}
